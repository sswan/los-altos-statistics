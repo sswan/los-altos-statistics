{
 "cells": [
  {
   "cell_type": "code",
   "execution_count": 10,
   "id": "91efbf65",
   "metadata": {},
   "outputs": [],
   "source": [
    "%matplotlib inline\n",
    "import json\n",
    "import tabulate\n",
    "import datetime\n",
    "import numpy as np\n",
    "import matplotlib.pyplot as plt\n",
    "\n",
    "def int2dur(x):\n",
    "    minutes = int(x // 60)\n",
    "    seconds = int(round(x - minutes * 60))\n",
    "    return f\"{minutes: 3d}m{seconds:02d}s\"\n",
    "\n",
    "\n",
    "def analyze_speakers(data, title=\"\", _filter=None):\n",
    "\n",
    "    if _filter is not None:\n",
    "        new_data = [_ for _ in data if _filter(_)]\n",
    "    else:\n",
    "        new_data = [_ for _ in data]\n",
    "    speakers = [_ for sublist in new_data for _ in sublist[\"speakers\"]]\n",
    "    \n",
    "    if title != \"\":\n",
    "        print(f\"\\n=====[ Analyzing '{title}' ]=====\\n\")\n",
    "\n",
    "        \n",
    "    N_first_female = sum([1 for _ in new_data if _[\"speakers\"][0][\"sex\"] == \"female\"])\n",
    "    N_first_male = sum([1 for _ in new_data if _[\"speakers\"][0][\"sex\"] == \"male\"])\n",
    "\n",
    "    N_last_female = sum([1 for _ in new_data if _[\"speakers\"][-1][\"sex\"] == \"female\"])\n",
    "    N_last_male = sum([1 for _ in new_data if _[\"speakers\"][-1][\"sex\"] == \"male\"])\n",
    "    \n",
    "    \n",
    "    sex = [_[\"sex\"] for _ in speakers]\n",
    "    duration = [_[\"duration\"] for _ in speakers]\n",
    "\n",
    "    total_duration = sum(duration)\n",
    "    female_durations = [_[\"duration\"] for _ in speakers if _[\"sex\"] == \"female\"]\n",
    "    male_durations = [_[\"duration\"] for _ in speakers if _[\"sex\"] == \"male\"]\n",
    "\n",
    "    \n",
    "    table = {\n",
    "        \"sex\": [\"female\", \"male\"],\n",
    "        \"N\": [len(female_durations), len(male_durations)],\n",
    "        \"N first\": [N_first_female, N_first_male],\n",
    "        \"N last\": [N_last_female, N_last_male],\n",
    "        \"total\": [int2dur(sum(female_durations)), int2dur(sum(male_durations))],\n",
    "        \"percent\": [sum(female_durations)/total_duration*100, sum(male_durations)/total_duration*100],\n",
    "        \"min\": [int2dur(min(female_durations)), int2dur(min(male_durations))],\n",
    "        \"mean\": [int2dur(np.mean(female_durations)), int2dur(np.mean(male_durations))],\n",
    "        \"max\": [int2dur(max(female_durations)), int2dur(max(male_durations))],\n",
    "    }\n",
    "    print(tabulate.tabulate(table, headers=\"keys\"))"
   ]
  },
  {
   "cell_type": "code",
   "execution_count": 11,
   "id": "ca7ed1e3",
   "metadata": {},
   "outputs": [
    {
     "name": "stdout",
     "output_type": "stream",
     "text": [
      "Processing 2023-05-28\n",
      "Processing 2023-06-25\n",
      "Processing 2023-07-02\n",
      "Found 3 meetings\n"
     ]
    },
    {
     "data": {
      "text/plain": [
       "{'fast sunday', 'regular'}"
      ]
     },
     "execution_count": 11,
     "metadata": {},
     "output_type": "execute_result"
    }
   ],
   "source": [
    "with open(\"data.json\", \"r\") as stream:\n",
    "    data = json.load(stream)\n",
    "    \n",
    "for idx in range(len(data)):\n",
    "    print(f\"Processing {data[idx]['date']}\")\n",
    "    data[idx][\"date\"] = datetime.datetime.strptime(data[idx][\"date\"], \"%Y-%m-%d\").date()\n",
    "    for jdx in range(len(data[idx][\"speakers\"])):\n",
    "        duration_txt = data[idx][\"speakers\"][jdx][\"duration\"]\n",
    "        minutes, seconds = duration_txt.split(\":\")\n",
    "        data[idx][\"speakers\"][jdx][\"duration\"] = int(minutes) * 60 + int(seconds)\n",
    "    \n",
    "print(f\"Found {len(data)} meetings\")\n",
    "meeting_types = set([_[\"meeting\"] for _ in data])\n",
    "meeting_types"
   ]
  },
  {
   "cell_type": "code",
   "execution_count": 12,
   "id": "6dcc7bf9",
   "metadata": {},
   "outputs": [
    {
     "name": "stdout",
     "output_type": "stream",
     "text": [
      "\n",
      "=====[ Analyzing 'all speakers' ]=====\n",
      "\n",
      "sex       N    N first    N last  total      percent  min    mean    max\n",
      "------  ---  ---------  --------  -------  ---------  -----  ------  ------\n",
      "female   11          2         1  59m42s     59.8496  0m12s  5m26s   17m22s\n",
      "male      7          1         2  40m03s     40.1504  0m16s  5m43s   22m40s\n",
      "\n",
      "=====[ Analyzing 'fast sunday' ]=====\n",
      "\n",
      "sex       N    N first    N last  total      percent  min    mean    max\n",
      "------  ---  ---------  --------  -------  ---------  -----  ------  -----\n",
      "female    8          0         1  17m39s     66.5201  0m12s  2m12s   4m33s\n",
      "male      5          1         0  8m53s      33.4799  0m16s  1m47s   2m41s\n",
      "\n",
      "=====[ Analyzing 'regular' ]=====\n",
      "\n",
      "sex       N    N first    N last  total      percent  min     mean    max\n",
      "------  ---  ---------  --------  -------  ---------  ------  ------  ------\n",
      "female    3          2         0  42m03s     57.4323  10m55s  14m01s  17m22s\n",
      "male      2          0         2  31m10s     42.5677  8m30s   15m35s  22m40s\n"
     ]
    }
   ],
   "source": [
    "analyze_speakers(data, title=\"all speakers\")\n",
    "\n",
    "for meeting_type in meeting_types:\n",
    "    analyze_speakers(data, title=meeting_type, _filter=lambda x: x[\"meeting\"] == meeting_type)"
   ]
  },
  {
   "cell_type": "code",
   "execution_count": null,
   "id": "14b9bfc2",
   "metadata": {},
   "outputs": [],
   "source": []
  },
  {
   "cell_type": "code",
   "execution_count": null,
   "id": "d52b0a1d",
   "metadata": {},
   "outputs": [],
   "source": []
  }
 ],
 "metadata": {
  "kernelspec": {
   "display_name": "Python 3 (ipykernel)",
   "language": "python",
   "name": "python3"
  },
  "language_info": {
   "codemirror_mode": {
    "name": "ipython",
    "version": 3
   },
   "file_extension": ".py",
   "mimetype": "text/x-python",
   "name": "python",
   "nbconvert_exporter": "python",
   "pygments_lexer": "ipython3",
   "version": "3.9.13"
  }
 },
 "nbformat": 4,
 "nbformat_minor": 5
}
